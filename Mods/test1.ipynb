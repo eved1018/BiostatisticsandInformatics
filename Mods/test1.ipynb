{
 "metadata": {
  "language_info": {
   "codemirror_mode": {
    "name": "ipython",
    "version": 3
   },
   "file_extension": ".py",
   "mimetype": "text/x-python",
   "name": "python",
   "nbconvert_exporter": "python",
   "pygments_lexer": "ipython3",
   "version": "3.9.1-final"
  },
  "orig_nbformat": 2,
  "kernelspec": {
   "name": "python3",
   "display_name": "Python 3.9.1 64-bit ('RajiResearch3.9.1')",
   "metadata": {
    "interpreter": {
     "hash": "c9c7bb406f4e9d244ae4188433f741dcac87cc6f990d84db9fd4c48b29ab4187"
    }
   }
  }
 },
 "nbformat": 4,
 "nbformat_minor": 2,
 "cells": [
  {
   "cell_type": "code",
   "execution_count": 2,
   "metadata": {},
   "outputs": [],
   "source": [
    "import sys\n",
    "sys.path.insert(0, '/Users/evanedelstein/Desktop/School/2021/Spring2021/BTM-6000/Mods')\n",
    "from Biostats import *"
   ]
  },
  {
   "cell_type": "code",
   "execution_count": 4,
   "metadata": {},
   "outputs": [
    {
     "output_type": "execute_result",
     "data": {
      "text/plain": [
       "0     9.396756e-11\n",
       "1     2.188891e-09\n",
       "2     3.257585e-08\n",
       "3     3.477952e-07\n",
       "4     2.835553e-06\n",
       "5     1.834770e-05\n",
       "6     9.667233e-05\n",
       "7     4.222306e-04\n",
       "8     1.548179e-03\n",
       "9     4.808462e-03\n",
       "10    1.272828e-02\n",
       "11    2.882581e-02\n",
       "12    5.595599e-02\n",
       "13    9.310324e-02\n",
       "14    1.325352e-01\n",
       "15    1.607964e-01\n",
       "16    1.652475e-01\n",
       "17    1.425665e-01\n",
       "18    1.019593e-01\n",
       "19    5.937630e-02\n",
       "20    2.744283e-02\n",
       "21    9.685703e-03\n",
       "22    2.452390e-03\n",
       "23    3.967102e-04\n",
       "Name: P, dtype: float64"
      ]
     },
     "metadata": {},
     "execution_count": 4
    }
   ],
   "source": [
    "li =[]\n",
    "p = []\n",
    "for i in range(1,25):\n",
    "    li.append(i)\n",
    "    p.append(dbinom(i,25,0.66))\n",
    "df =pd.DataFrame()\n",
    "df[\"x\"] = li\n",
    "df[\"P\"] = p\n",
    "df.head()\n",
    "p = df.P\n",
    "p\n",
    "# df.plot.scatter(x=\"x\", y=\"P\")\n",
    "# plt = scatter(df,\"x\",\"P\")\n"
   ]
  },
  {
   "cell_type": "code",
   "execution_count": null,
   "metadata": {},
   "outputs": [],
   "source": []
  }
 ]
}